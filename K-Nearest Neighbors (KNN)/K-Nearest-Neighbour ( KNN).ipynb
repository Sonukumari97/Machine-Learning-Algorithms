{
 "cells": [
  {
   "cell_type": "markdown",
   "metadata": {},
   "source": [
    "## Importing Libraries"
   ]
  },
  {
   "cell_type": "code",
   "execution_count": 1,
   "metadata": {},
   "outputs": [],
   "source": [
    "from matplotlib import cm  # color map\n",
    "import math\n",
    "import matplotlib.pyplot as plt #matplotlib\n",
    "import numpy as np\n",
    "import pandas as pd\n",
    "from sklearn.model_selection import train_test_split\n",
    "from sklearn.metrics import accuracy_score\n",
    "from sklearn.metrics import confusion_matrix\n",
    "from sklearn.metrics import classification_report\n",
    "from sklearn.cluster import KMeans"
   ]
  },
  {
   "cell_type": "markdown",
   "metadata": {},
   "source": [
    "## Load the Dataset"
   ]
  },
  {
   "cell_type": "code",
   "execution_count": 2,
   "metadata": {},
   "outputs": [
    {
     "name": "stdout",
     "output_type": "stream",
     "text": [
      "     sepal_length  sepal_width  petal_length  petal_width           class\n",
      "0             5.1          3.5           1.4          0.2     Iris-setosa\n",
      "1             4.9          3.0           1.4          0.2     Iris-setosa\n",
      "2             4.7          3.2           1.3          0.2     Iris-setosa\n",
      "3             4.6          3.1           1.5          0.2     Iris-setosa\n",
      "4             5.0          3.6           1.4          0.2     Iris-setosa\n",
      "..            ...          ...           ...          ...             ...\n",
      "145           6.7          3.0           5.2          2.3  Iris-virginica\n",
      "146           6.3          2.5           5.0          1.9  Iris-virginica\n",
      "147           6.5          3.0           5.2          2.0  Iris-virginica\n",
      "148           6.2          3.4           5.4          2.3  Iris-virginica\n",
      "149           5.9          3.0           5.1          1.8  Iris-virginica\n",
      "\n",
      "[150 rows x 5 columns]\n"
     ]
    }
   ],
   "source": [
    "# reading csv file\n",
    "csvfile = pd.read_csv(\"iris.data\",header = None)  \n",
    "df = csvfile.rename(columns = {0:'sepal_length' ,1:'sepal_width',2:'petal_length',3:'petal_width',4:'class'})\n",
    "print(df)"
   ]
  },
  {
   "cell_type": "markdown",
   "metadata": {},
   "source": [
    "## Normalization of Dataset"
   ]
  },
  {
   "cell_type": "code",
   "execution_count": 3,
   "metadata": {},
   "outputs": [
    {
     "name": "stdout",
     "output_type": "stream",
     "text": [
      "normalized dataframe : \n",
      "       sepal_length  sepal_width  petal_length  petal_width           class\n",
      "0        0.222222     0.625000      0.067797     0.041667     Iris-setosa\n",
      "1        0.166667     0.416667      0.067797     0.041667     Iris-setosa\n",
      "2        0.111111     0.500000      0.050847     0.041667     Iris-setosa\n",
      "3        0.083333     0.458333      0.084746     0.041667     Iris-setosa\n",
      "4        0.194444     0.666667      0.067797     0.041667     Iris-setosa\n",
      "..            ...          ...           ...          ...             ...\n",
      "145      0.666667     0.416667      0.711864     0.916667  Iris-virginica\n",
      "146      0.555556     0.208333      0.677966     0.750000  Iris-virginica\n",
      "147      0.611111     0.416667      0.711864     0.791667  Iris-virginica\n",
      "148      0.527778     0.583333      0.745763     0.916667  Iris-virginica\n",
      "149      0.444444     0.416667      0.694915     0.708333  Iris-virginica\n",
      "\n",
      "[150 rows x 5 columns]\n"
     ]
    }
   ],
   "source": [
    "feature1 = df['sepal_length']\n",
    "feature2 = df['sepal_width']\n",
    "feature3 = df['petal_length']\n",
    "feature4 = df['petal_width']\n",
    "a1 = max(feature1)\n",
    "a2 = min(feature1)\n",
    "b1 = max(feature2)\n",
    "b2 = min(feature2)\n",
    "c1 = max(feature3)\n",
    "c2 = min(feature3)\n",
    "d1 = max(feature4)\n",
    "d2 = min(feature4)\n",
    "df['sepal_length'] = (feature1-a2)/(a1-a2)\n",
    "df['sepal_width']= (feature2-b2)/(b1-b2)\n",
    "df['petal_length'] = (feature3-c2)/(c1-c2)\n",
    "df['petal_width'] = (feature4-d2)/(d1-d2)\n",
    "print(\"normalized dataframe : \\n \",df)"
   ]
  },
  {
   "cell_type": "markdown",
   "metadata": {},
   "source": [
    "## Spliting Dataset"
   ]
  },
  {
   "cell_type": "code",
   "execution_count": 4,
   "metadata": {},
   "outputs": [
    {
     "name": "stdout",
     "output_type": "stream",
     "text": [
      " dataset of training set \n",
      "       sepal_length  sepal_width  petal_length  petal_width            class\n",
      "0        0.805556     0.500000      0.847458     0.708333   Iris-virginica\n",
      "1        0.222222     0.208333      0.338983     0.416667  Iris-versicolor\n",
      "2        0.500000     0.333333      0.627119     0.458333  Iris-versicolor\n",
      "3        0.666667     0.541667      0.796610     1.000000   Iris-virginica\n",
      "4        0.222222     0.708333      0.084746     0.125000      Iris-setosa\n",
      "..            ...          ...           ...          ...              ...\n",
      "115      0.444444     0.500000      0.644068     0.708333  Iris-versicolor\n",
      "116      0.583333     0.333333      0.779661     0.875000   Iris-virginica\n",
      "117      0.333333     0.916667      0.067797     0.041667      Iris-setosa\n",
      "118      0.805556     0.666667      0.864407     1.000000   Iris-virginica\n",
      "119      0.722222     0.458333      0.745763     0.833333   Iris-virginica\n",
      "\n",
      "[120 rows x 5 columns]\n",
      "dataset of test data \n",
      "      sepal_length  sepal_width  petal_length  petal_width            class\n",
      "0       0.361111     0.416667      0.525424     0.500000  Iris-versicolor\n",
      "1       0.555556     0.208333      0.661017     0.583333  Iris-versicolor\n",
      "2       0.305556     0.583333      0.118644     0.041667      Iris-setosa\n",
      "3       0.305556     0.791667      0.050847     0.125000      Iris-setosa\n",
      "4       0.611111     0.416667      0.711864     0.791667   Iris-virginica\n",
      "5       0.666667     0.458333      0.779661     0.958333   Iris-virginica\n",
      "6       0.388889     0.208333      0.677966     0.791667   Iris-virginica\n",
      "7       0.222222     0.541667      0.118644     0.166667      Iris-setosa\n",
      "8       0.138889     0.416667      0.067797     0.000000      Iris-setosa\n",
      "9       0.527778     0.083333      0.593220     0.583333  Iris-versicolor\n",
      "10      0.222222     0.583333      0.084746     0.041667      Iris-setosa\n",
      "11      0.861111     0.333333      0.864407     0.750000   Iris-virginica\n",
      "12      0.166667     0.458333      0.084746     0.000000      Iris-setosa\n",
      "13      0.694444     0.416667      0.762712     0.833333   Iris-virginica\n",
      "14      0.388889     0.333333      0.593220     0.500000  Iris-versicolor\n",
      "15      0.194444     0.416667      0.101695     0.041667      Iris-setosa\n",
      "16      0.416667     0.291667      0.491525     0.458333  Iris-versicolor\n",
      "17      0.277778     0.708333      0.084746     0.041667      Iris-setosa\n",
      "18      0.333333     0.166667      0.457627     0.375000  Iris-versicolor\n",
      "19      0.666667     0.416667      0.677966     0.666667  Iris-versicolor\n",
      "20      0.555556     0.541667      0.847458     1.000000   Iris-virginica\n",
      "21      0.333333     0.166667      0.474576     0.416667  Iris-versicolor\n",
      "22      0.416667     0.833333      0.033898     0.041667      Iris-setosa\n",
      "23      1.000000     0.750000      0.915254     0.791667   Iris-virginica\n",
      "24      0.666667     0.458333      0.627119     0.583333  Iris-versicolor\n",
      "25      0.944444     0.250000      1.000000     0.916667   Iris-virginica\n",
      "26      0.555556     0.541667      0.627119     0.625000  Iris-versicolor\n",
      "27      0.611111     0.333333      0.610169     0.583333  Iris-versicolor\n",
      "28      0.527778     0.375000      0.559322     0.500000  Iris-versicolor\n",
      "29      0.694444     0.500000      0.830508     0.916667   Iris-virginica\n"
     ]
    }
   ],
   "source": [
    "y = df['class']\n",
    "X = df[['sepal_length','sepal_width', 'petal_length', 'petal_width']]\n",
    "X_train, X_test, y_train, y_test = train_test_split(X, y, test_size = 0.2, random_state = 50)\n",
    "data = pd.concat([X_train, y_train], axis = 1)\n",
    "data_test = pd.concat([X_test, y_test], axis=1)\n",
    "data.reset_index(drop=True, inplace=True)\n",
    "data_test.reset_index(drop=True, inplace=True)\n",
    "print(\" dataset of training set \\n \",data)\n",
    "print(\"dataset of test data \\n \",data_test)"
   ]
  },
  {
   "cell_type": "markdown",
   "metadata": {},
   "source": [
    "## Distance Metric"
   ]
  },
  {
   "cell_type": "code",
   "execution_count": 5,
   "metadata": {},
   "outputs": [],
   "source": [
    "# defining euclidean distance\n",
    "def eu_dis(ar1, ar2):\n",
    "    val = 0\n",
    "    for i in range(len(ar1)):\n",
    "        val = val +(ar1[i]-ar2[i])**2\n",
    "    final_ans = math.sqrt(val)\n",
    "    return final_ans"
   ]
  },
  {
   "cell_type": "markdown",
   "metadata": {},
   "source": [
    "## Normalization of Test Sample"
   ]
  },
  {
   "cell_type": "code",
   "execution_count": 6,
   "metadata": {},
   "outputs": [],
   "source": [
    "# defining normalization of test sample\n",
    "def norm(arr):\n",
    "    arr[0] = (arr[0]-a2)/(a1-a2)\n",
    "    arr[1] = (arr[1] - b2)/(b1-b2)\n",
    "    arr[2] = (arr[2] - c2)/(c1-c2)\n",
    "    arr[3] = (arr[3]-d2)/(d1-d2)\n",
    "    return arr"
   ]
  },
  {
   "cell_type": "markdown",
   "metadata": {},
   "source": [
    "## Nearest Neighbours & Prediction using KNN"
   ]
  },
  {
   "cell_type": "code",
   "execution_count": 7,
   "metadata": {},
   "outputs": [],
   "source": [
    "def KNN(data, test_sample, k):\n",
    "    dist = pd.DataFrame()   # making dataframe\n",
    "    for i in range(len(data)):\n",
    "        distance = eu_dis(np.array(data.iloc[i])[:4], test_sample)  # calculating euclidean distance\n",
    "        dist = dist.append({'class': data.iloc[i][4], 'distance' : distance, 'weight': None},\n",
    "                           ignore_index = True)  # adding two different column to dataframe\n",
    "    dist = dist.sort_values(by='distance', ascending=True)  # sorting them\n",
    "    dist.loc[dist['distance']==0.0, \"weight\"] = 1/dist['distance'].unique()[1]\n",
    "    dist.loc[dist['distance']!=0.0, \"weight\"] = 1/dist['distance']\n",
    "    dist[\"weight\"] = dist[\"weight\"].astype(float)\n",
    "    nn = dist.head(k)\n",
    "    nn = nn.groupby([\"class\"]).sum().reset_index()  # making group of class acc to sum \n",
    "    nn = nn[nn[\"weight\"]==nn[\"weight\"].max()][\"class\"].tolist()\n",
    "    return nn"
   ]
  },
  {
   "cell_type": "markdown",
   "metadata": {},
   "source": [
    "## Test"
   ]
  },
  {
   "cell_type": "code",
   "execution_count": 8,
   "metadata": {},
   "outputs": [
    {
     "name": "stdout",
     "output_type": "stream",
     "text": [
      "test1 belongs to class :  ['Iris-virginica']\n",
      "test2 belongs to class :  ['Iris-setosa']\n",
      "test3 belongs to class : ['Iris-virginica']\n"
     ]
    }
   ],
   "source": [
    "# testing for given test records\n",
    "test1 = KNN(data, norm([5.1, 2.5, 3.2, 4.3]), 5)\n",
    "print(\"test1 belongs to class : \", test1)\n",
    "test2 = KNN(data, norm([4.9, 3, 1.4, 0.2]), 5)\n",
    "print(\"test2 belongs to class : \", test2)\n",
    "test3 = KNN(data,norm([6, 3, 4.8, 1.8]), 5)\n",
    "print(\"test3 belongs to class :\",test3)"
   ]
  },
  {
   "cell_type": "markdown",
   "metadata": {},
   "source": [
    "## Accuracy"
   ]
  },
  {
   "cell_type": "code",
   "execution_count": 9,
   "metadata": {},
   "outputs": [],
   "source": [
    "def accuracy(data, data_test, k):\n",
    "    data_test[\"pred\"] = None\n",
    "    for i in range(len(data_test)):\n",
    "       data_test.loc[i, \"pred\"] = KNN(data, np.array(data_test.iloc[i])[:4], 8)\n",
    "    accu = accuracy_score(data_test[\"class\"], data_test[\"pred\"]) # calculating accuracy for test data set\n",
    "    cfm = confusion_matrix(data_test[\"class\"], data_test[\"pred\"])  # making confusion matrix\n",
    "    clr = classification_report(data_test[\"class\"], data_test[\"pred\"])\n",
    "\n",
    "    return (accu,cfm,clr)\n",
    "(accuracy, confusion_matrix, classification_report) = accuracy(data,data_test,8)"
   ]
  },
  {
   "cell_type": "code",
   "execution_count": 12,
   "metadata": {},
   "outputs": [
    {
     "name": "stdout",
     "output_type": "stream",
     "text": [
      "Accuracy by KNN : 0.9333333333333333\n",
      "Confusion Matrix is : [[ 9  0  0]\n",
      " [ 0 10  2]\n",
      " [ 0  0  9]]\n",
      "Classification Report :                  precision    recall  f1-score   support\n",
      "\n",
      "    Iris-setosa       1.00      1.00      1.00         9\n",
      "Iris-versicolor       1.00      0.83      0.91        12\n",
      " Iris-virginica       0.82      1.00      0.90         9\n",
      "\n",
      "       accuracy                           0.93        30\n",
      "      macro avg       0.94      0.94      0.94        30\n",
      "   weighted avg       0.95      0.93      0.93        30\n",
      "\n"
     ]
    }
   ],
   "source": [
    "print(\"Accuracy by KNN :\",accuracy)\n",
    "print(\"Confusion Matrix is :\",confusion_matrix)\n",
    "print(\"Classification Report :\",classification_report)\n"
   ]
  },
  {
   "cell_type": "markdown",
   "metadata": {},
   "source": [
    "#### Maximum accuracy occured at k = 8 by varying value of k  the prediction accuracy of each class is maximum at k=9 \n",
    "other than  Hyperparameter tuning method, the other ways of choosing the optimal values of k is by using:\n",
    "\n",
    "1.Schwarz criterion\n",
    "\n",
    "2.Cross-validation method\n",
    "\n",
    "3.Elbow method"
   ]
  }
 ],
 "metadata": {
  "kernelspec": {
   "display_name": "Python 3",
   "language": "python",
   "name": "python3"
  },
  "language_info": {
   "codemirror_mode": {
    "name": "ipython",
    "version": 3
   },
   "file_extension": ".py",
   "mimetype": "text/x-python",
   "name": "python",
   "nbconvert_exporter": "python",
   "pygments_lexer": "ipython3",
   "version": "3.8.3"
  }
 },
 "nbformat": 4,
 "nbformat_minor": 4
}
